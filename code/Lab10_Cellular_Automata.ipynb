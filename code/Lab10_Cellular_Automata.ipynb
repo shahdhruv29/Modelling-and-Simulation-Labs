{
  "nbformat": 4,
  "nbformat_minor": 0,
  "metadata": {
    "colab": {
      "provenance": [],
      "include_colab_link": true
    },
    "kernelspec": {
      "name": "python3",
      "display_name": "Python 3"
    },
    "language_info": {
      "name": "python"
    }
  },
  "cells": [
    {
      "cell_type": "markdown",
      "metadata": {
        "id": "view-in-github",
        "colab_type": "text"
      },
      "source": [
        "<a href=\"https://colab.research.google.com/github/shahdhruv29/Modelling-and-Simulation-Labs/blob/main/code/Lab10_Cellular_Automata.ipynb\" target=\"_parent\"><img src=\"https://colab.research.google.com/assets/colab-badge.svg\" alt=\"Open In Colab\"/></a>"
      ]
    },
    {
      "cell_type": "markdown",
      "source": [
        "## Lab-10: Adoption of Products Using Cellular Automata"
      ],
      "metadata": {
        "id": "wGFV3u1p6bpE"
      }
    },
    {
      "cell_type": "markdown",
      "source": [
        "Here we simulate the Bass model (Lab-3) using Cellular Automata"
      ],
      "metadata": {
        "id": "zZdAH5dO89RE"
      }
    },
    {
      "cell_type": "code",
      "execution_count": null,
      "metadata": {
        "id": "CroBJ8cBb7_9"
      },
      "outputs": [],
      "source": [
        "import numpy as np\n",
        "import matplotlib\n",
        "import matplotlib.pyplot as plt\n",
        "import matplotlib.image as mpimg\n",
        "import matplotlib.animation as animation\n",
        "from IPython.display import HTML  # for embedded matplotlib animation\n",
        "from math import *\n",
        "import random\n",
        "import seaborn as sns\n",
        "\n",
        "matplotlib.rc('animation', html='html5')"
      ]
    },
    {
      "cell_type": "code",
      "source": [
        "global NEUTRAL, PRODUCT1, PRODUCT2\n",
        "NEUTRAL = 0 #Not influenced\n",
        "PRODUCT1 = 1\n",
        "PRODUCT2 = 2"
      ],
      "metadata": {
        "id": "KDKjIYgvsfdK"
      },
      "execution_count": null,
      "outputs": []
    },
    {
      "cell_type": "code",
      "source": [
        "def initBar(m, n, hotSites, coldSites):\n",
        "#   global AMBIENT\n",
        "    ambientBar = NEUTRAL * np.ones((m, n))\n",
        "    bar = applyHotCold(ambientBar, hotSites, coldSites)\n",
        "    return bar"
      ],
      "metadata": {
        "id": "f-iSMQkVsfNx"
      },
      "execution_count": null,
      "outputs": []
    },
    {
      "cell_type": "code",
      "source": [
        "def applyHotCold(bar, rightSites, coldSites): #applies influenced to the population\n",
        "    for k in range(len(rightSites)):\n",
        "        bar[rightSites[k, 0], rightSites[k, 1]] = PRODUCT1\n",
        "    for k in range(len(coldSites)):\n",
        "        bar[coldSites[k, 0], coldSites[k, 1]] = PRODUCT2\n",
        "    return bar"
      ],
      "metadata": {
        "id": "lJoXiUkSN6He"
      },
      "execution_count": null,
      "outputs": []
    },
    {
      "cell_type": "code",
      "source": [
        "def reflectingLat(lat):\n",
        "    latNS = np.row_stack((lat[0], lat, lat[-1]))\n",
        "    return np.column_stack((latNS[:,0], latNS, latNS[:,-1]))"
      ],
      "metadata": {
        "id": "-C70RzD9VDFx"
      },
      "execution_count": null,
      "outputs": []
    },
    {
      "cell_type": "code",
      "source": [
        "def periodicLat(lat): #This is the function of the boundary conditions.\n",
        "    latN = np.row_stack((lat[-1], lat))\n",
        "    latS = np.row_stack((latN, lat[0]))\n",
        "    latE = np.column_stack((latS[:,-1], latS))\n",
        "    return np.column_stack((latE, latS[:,0]))"
      ],
      "metadata": {
        "id": "sR8cqrX15Gx5"
      },
      "execution_count": null,
      "outputs": []
    },
    {
      "cell_type": "code",
      "source": [
        "def applyDiffusionExtended(latExt):\n",
        "    m = latExt.shape[0] - 2\n",
        "    n = latExt.shape[1] - 2\n",
        "    # newLat = latExt[0,m\n",
        "    newLat = np.zeros((m, n))\n",
        "\n",
        "    for i in range(1, m + 1):\n",
        "        for j in range(1, n + 1):\n",
        "            site = latExt[i, j]\n",
        "            N = latExt[i - 1, j]\n",
        "            NE = latExt[i - 1, j + 1]\n",
        "            E = latExt[i, j + 1]\n",
        "            SE = latExt[i + 1, j + 1]\n",
        "            S = latExt[i + 1, j]\n",
        "            SW = latExt[i + 1, j - 1]\n",
        "            W = latExt[i, j - 1]\n",
        "            NW = latExt[i - 1, j - 1]\n",
        "            newLat[i - 1, j - 1] = interaction(site, N, NE, E, SE, S, SW, W, NW);\n",
        "    return newLat"
      ],
      "metadata": {
        "id": "PIOH9lZqUq3c"
      },
      "execution_count": null,
      "outputs": []
    },
    {
      "cell_type": "code",
      "source": [
        "def prob_product(k, p):\n",
        "  return 1 - (1-p)**k\n",
        "\n",
        "# def prob_product2(k, q):\n",
        "#   return 1 - (1-q)**k"
      ],
      "metadata": {
        "id": "QJr8dLB_jC_E"
      },
      "execution_count": null,
      "outputs": []
    },
    {
      "cell_type": "code",
      "source": [
        "def interaction(site, N, NE, E, SE, S, SW, W, NW):\n",
        "    peer = np.array([N, NE, E, SE, S, SW, W, NW])\n",
        "    # peer2 = np.array([N, NE, E, SE, S, SW, W, NW])\n",
        "\n",
        "    peer1 = np.count_nonzero(peer==1)\n",
        "    peer2 = np.count_nonzero(peer==2)\n",
        "\n",
        "    p = 0.12\n",
        "    q = 0.225\n",
        "\n",
        "    prob_1 = prob_product(peer1, p)\n",
        "    prob_2 = prob_product(peer2, q)\n",
        "\n",
        "    r = np.random.rand()\n",
        "    if(site==0):\n",
        "\n",
        "        if(peer1>0 and peer2>0):\n",
        "\n",
        "            if (prob_1 > prob_2):\n",
        "                if(r < prob_1):\n",
        "                    return 1\n",
        "            elif (prob_1 < prob_2):\n",
        "                if (r < prob_2):\n",
        "                    return 2\n",
        "            else:\n",
        "                if (r < prob_1):\n",
        "                    np.choice([1, 2])\n",
        "                else:\n",
        "                    return site\n",
        "\n",
        "        if(peer1>0 and peer2==0):\n",
        "            if(r<prob_1):\n",
        "                return 1\n",
        "        if(peer1==0 and peer2>0):\n",
        "            if(r<prob_2):\n",
        "                return 2\n",
        "        else:\n",
        "            return site\n",
        "    # if (site == 0 and peer > 0 and np.random.rand() < prob_product1(peer, p)):\n",
        "    #   return 1\n",
        "    else :\n",
        "      return site"
      ],
      "metadata": {
        "id": "cpSMYQIzSQcZ"
      },
      "execution_count": null,
      "outputs": []
    },
    {
      "cell_type": "code",
      "source": [
        "def  interactionSim(m, n, hotSites, coldSites, t, boundary):\n",
        "    # Initialize grid\n",
        "    bar = initBar(m, n, hotSites, coldSites)\n",
        "    change = np.array([])\n",
        "    # Perform simulation\n",
        "    grids = np.zeros((t + 1, m, n))\n",
        "    grids[0, :, :] = bar\n",
        "    for i in range(1, t + 1):\n",
        "        # Extend matrix\n",
        "        barExtended = boundary(bar)\n",
        "\n",
        "        # Apply spread of heat function to each grid point\n",
        "        bar = applyDiffusionExtended(barExtended)\n",
        "        # reapply hot and cold spots\n",
        "\n",
        "        # Save new matrix\n",
        "        grids[i, :, :] = bar\n",
        "        change = np.append(change, np.sum(grids[i, :, :]) - np.sum(grids[i - 1, :, :]))\n",
        "    return grids, change"
      ],
      "metadata": {
        "id": "RCJaaeM6VZLX"
      },
      "execution_count": null,
      "outputs": []
    },
    {
      "cell_type": "code",
      "source": [
        "def animate_simulation(grids, time):\n",
        "  Writer = animation.writers['ffmpeg']\n",
        "  writer = Writer(fps=15, metadata=dict(artist='Me'), bitrate=1800)\n",
        "\n",
        "  figGray = plt.figure()\n",
        "  plt.axis('off')\n",
        "  imGray = plt.imshow(grids[0,:,:], cmap='gray', interpolation='nearest', animated=True)\n",
        "\n",
        "  # The animation function, called to produce a frame for each generation.\n",
        "  def updatefig(i, *args):\n",
        "      global grids\n",
        "      imGray.set_array(grids[i,:,:])\n",
        "      return imGray,\n",
        "\n",
        "  grid_ani = animation.FuncAnimation(figGray, updatefig, save_count = len(grids),\n",
        "                                    interval=50, blit=False)\n",
        "  plt.show()\n",
        "\n",
        "  # To save the animation, use the command, placed before HTML:\n",
        "  grid_ani.save('DiffusionGray.mp4', writer=writer)\n",
        "\n",
        "  return HTML(grid_ani.to_html5_video())"
      ],
      "metadata": {
        "id": "WLT9-pwwWYkX"
      },
      "execution_count": null,
      "outputs": []
    },
    {
      "cell_type": "code",
      "source": [
        "def generate_random_matrix(n, p_range, q_range):\n",
        "    # Generate random integers for each column\n",
        "    column1 = np.random.randint(0, p_range, size=n)\n",
        "    column2 = np.random.randint(0, q_range, size=n)\n",
        "\n",
        "    # Combine columns into a matrix\n",
        "    result_matrix = np.column_stack((column1, column2))\n",
        "\n",
        "    return result_matrix"
      ],
      "metadata": {
        "id": "DKz9iVzgb2QX"
      },
      "execution_count": null,
      "outputs": []
    },
    {
      "cell_type": "markdown",
      "source": [
        "PRODUCT1 - GRAY\n",
        "PRODUCT2 - WHITE\n",
        "NETURAL - BLACK"
      ],
      "metadata": {
        "id": "uIxm-J0qrMKa"
      }
    },
    {
      "cell_type": "code",
      "source": [
        "m = 10\n",
        "n = 10\n",
        "t = 50\n",
        "total_inf = 20\n",
        "influenced = generate_random_matrix(total_inf, m, n)\n",
        "\n",
        "influenced1 = influenced[0: floor(total_inf/2), :]\n",
        "influenced2 = influenced[floor(total_inf/2) :, :]\n",
        "grids, change = interactionSim(m, n, influenced1, influenced2, t, reflectingLat)\n",
        "\n",
        "animate_simulation(grids, t)"
      ],
      "metadata": {
        "colab": {
          "base_uri": "https://localhost:8080/",
          "height": 891
        },
        "id": "5YhweFS7OYYX",
        "outputId": "828e4362-9d7b-465b-c199-28e6f2d65f30"
      },
      "execution_count": null,
      "outputs": [
        {
          "output_type": "display_data",
          "data": {
            "text/plain": [
              "<Figure size 640x480 with 1 Axes>"
            ],
            "image/png": "[encoded data removed]"
          },
          "metadata": {}
        },
        {
          "output_type": "execute_result",
          "data": {
            "text/plain": [
              "<IPython.core.display.HTML object>"
            ],
            "text/html": [
              "<video width=\"640\" height=\"480\" controls autoplay loop>\n",
              "  <source type=\"video/mp4\" src=\"data:video/mp4;base64,AAAAIGZ0eXBNNFYgAAACAE00ViBpc29taXNvMmF2YzEAAAAIZnJlZQAAFfJtZGF0AAACrgYF//+q\n",
              "3EXpvebZSLeWLNgg2SPu73gyNjQgLSBjb3JlIDE2MyByMzA2MCA1ZGI2YWE2IC0gSC4yNjQvTVBF\n",
              "Ry00IEFWQyBjb2RlYyAtIENvcHlsZWZ0IDIwMDMtMjAyMSAtIGh0dHA6Ly93d3cudmlkZW9sYW4u\n",
              "b3JnL3gyNjQuaHRtbCAtIG9wdGlvbnM6IGNhYmFjPTEgcmVmPTMgZGVibG9jaz0xOjA6MCBhbmFs\n",
              "eXNlPTB4MzoweDExMyBtZT1oZXggc3VibWU9NyBwc3k9MSBwc3lfcmQ9MS4wMDowLjAwIG1peGVk\n",
              "X3JlZj0xIG1lX3JhbmdlPTE2IGNocm9tYV9tZT0xIHRyZWxsaXM9MSA4eDhkY3Q9MSBjcW09MCBk\n",
              "ZWFkem9uZT0yMSwxMSBmYXN0X3Bza2lwPTEgY2hyb21hX3FwX29mZnNldD0tMiB0aHJlYWRzPTMg\n",
              "bG9va2FoZWFkX3RocmVhZHM9MSBzbGljZWRfdGhyZWFkcz0wIG5yPTAgZGVjaW1hdGU9MSBpbnRl\n",
              "cmxhY2VkPTAgYmx1cmF5X2NvbXBhdD0wIGNvbnN0cmFpbmVkX2ludHJhPTAgYmZyYW1lcz0zIGJf\n",
              "cHlyYW1pZD0yIGJfYWRhcHQ9MSBiX2JpYXM9MCBkaXJlY3Q9MSB3ZWlnaHRiPTEgb3Blbl9nb3A9\n",
              "MCB3ZWlnaHRwPTIga2V5aW50PTI1MCBrZXlpbnRfbWluPTIwIHNjZW5lY3V0PTQwIGludHJhX3Jl\n",
              "ZnJlc2g9MCByY19sb29rYWhlYWQ9NDAgcmM9Y3JmIG1idHJlZT0xIGNyZj0yMy4wIHFjb21wPTAu\n",
              "NjAgcXBtaW49MCBxcG1heD02OSBxcHN0ZXA9NCBpcF9yYXRpbz0xLjQwIGFxPTE6MS4wMACAAAAD\n",
              "umWIhAA3//728P4FNjuY0JcRzeidMx+/Fbi6NDe9zgAAAwAAAwAAAwG5pYX/dnfziCAAAAMAdsAV\n",
              "r+/ghI/zACFd3XYHDZaaddCcFjtWpS8P/aLsPz+Ke+grSsaYtQ/9WJzVPAuz+m4HUwamHuY0ljOe\n",
              "ntM8Mi78UKqmQgPb/ZIQSQxr3/fJwEn1RPhRvd8gfaKqLJAAAAcEC0XZTNy/tRDCllLYXReOthwE\n",
              "42fAMWnfSu28z4BYBvB5U6Djmbru+ME4KI+GTwzy2vKWEHhNUJ8y7ogFpAj/3xNjlNLSyFJim317\n",
              "eXQ+oCb6u5SBk0lG2R0b9ldilfk0PMhMxJZ60BoYWVPo/rT7SQ9GVZ8V5A0HomadDAcnIkKTNfkH\n",
              "kzB7Zty51jBzqERn25tukuiFEtOLuTR7Vy7teTQbv+5p6/pWJej0CKIdu8g9f5CR02UJHKcJCGCA\n",
              "Qz/tWBxvStlySQYu+t/d9MR707YIG/JBDGbgAY3+ZhablCYxvexHu1hLoXwAHNRoo+t5gNQ97mRL\n",
              "bOp9FRRsR4A7tTzwMGyjuBnw5Fe7p/3VIQt+aTOPSROhCADnfPwUvf+UCI1cNs1s9THLVJVII6+m\n",
              "FCvF0ULW5MWNZN6gzKq0ediWn1sEgZTccAY1pc7q3wbHQ9pD8Y9vja0J0hMR+kcdVHSYPggHVrJj\n",
              "5/PBb9t/T+QgQedsXibbpFf2UyllWLBb/CJ2Q/cKb75BvY61aysolEkBFRdk8NIvB5N/y2msDx6T\n",
              "PVCxFUvxHCQTQTLtoZk45LNSpBVfSvgGSEiSLB5VtwZ4iioD8FGKX1/Ry6HrX90nXbGIlgxIkNof\n",
              "a9etATa3N6V+YGB88J3B4IIbC8tCPGshBePDDJF5m7wAaIGYelvY+G0szRTv9VYQGby1WFzugKsY\n",
              "9+nsV6xzCLPmHT5O3FsO5odHve1Cb+iZdxLsBa1xSKh1qDhBxvlXdPzAFZVuGGhJjoN5R7TADabt\n",
              "sAEp98twx/w4P/nPsXWm7CL5fQ+jFIo18iLxfL/x66BsGCnBFvd+t/JG4ObPb3doozSf+35AzVOq\n",
              "kX5oCTz5sgf8AQaEeLMz2ing9JyOSg240KE9dJw7cMQTY3qpPc3Adt7r2YbTKJYqghB8XXwXVin8\n",
              "yQBHDLNroc8bAAERLZZRH3RRqsKE4dD15tvnNmTjEUFwrXJcDSicco6M5No9PykaqycTRJ7Qc1aU\n",
              "yXTd8bEPxM+AVSxdwtCteXOiP/pT2zvrthxSSjnTrZtAAAADAAADAAAW8QAAAnVBmiFsQ3/+p4QA\n",
              "R75Grd/Esgmi3UBJ+Q/8/gTC+VdGOAa4FiHb+2D54MbEE2CyFKwXK8W6FDAjtFjdf1G1Ov3bOld0\n",
              "tPTNzgESJm9NpEr6fo2SJFQ+SftqRbLIznCPQV9IZsjXvOzxZ0zJJjbTLtuyW78pFjMi0LCS19xL\n",
              "OPs0N9bhBlCTYvN9NO2Z3GyHRWF4muCJwbTs3ltcZrBHQm+FmI7Rq/pcB1O5GzqHZxAbnDjoH7Qq\n",
              "AAf3qKXm8/4zLih6Wkt/VpOUlyy1rf/2vYYs7JQSMQxDvddPy07B97502KRgiADHuLr4jIaTWYOv\n",
              "BNn6A1/DKg9X9QztVya0kM2ACXP6bcEfBWHktYDq4AN8lI7b9BiKukTRQMPSromFzzrlqOoOUVe7\n",
              "dn2rfTT3/EZqEFTVMr7LLHzrm5UUwnv4d0z6Fxa9nRLQVXiaepomRim5ZlW1nie6lYMWN+hWgmQS\n",
              "0NYtZFmHLM6+SvJ7SK3vg0ryRAvMHLN6/bmCYstWqUchhfR0GEN0XKQDUmFwkrovSB4lgBgOFGgt\n",
              "9PfJ31cIETMYwrwRZawGD1Vrzs486dV3v7Avf9CA7oAEVoa8+CrQu5QgR71lcy2rpjt4iQm7ReGa\n",
              "apXgrbEkK3DlRi8LYVma88k/KInP/KriQAFODbqmjEvq6ukjLuGs+I5nFh0njqwxWoymnUil5REX\n",
              "gRgIvh047wUd1+gXV3bz1qVkERKaptGdTtbFBrQwOwLhz42xqcawe3MC0z0pdojJQBjsJ1qlF3Pb\n",
              "xamRDjk21LYO93AoZ8mOTc2ULRiykNTd8/vwRxjpXV4Y3uPA6JK8jCDehHgUSyYxCQAAAiNBmkI8\n",
              "IZMphDf//qeEAC67+9sITswd3r+3mbcjpMVKe1dUvnlON1qiXkYftCtfS/gZyAIisVytUTm/l7iU\n",
              "UL8JlDiLDpHo9SvTK1pQuNG3qfwTHsYb4pZ4vmXy8LSs/pwe3H9ar3WDPobEcTAOu54Bsn1pWyoj\n",
              "+2osmKUqb7YvNP7hZudcr7Kh78JRetUyJF9qZd/X3Nu0sGfMAXzTAnsqz+BhaI7gCL0HH3Yueex9\n",
              "GST2BVzzhl9GtP/09Mbmxid4ugIUl6am546j0h7tMXvSpRz8tV95wKDTSvzJnMlOI9LnyI2+dAgg\n",
              "5hUF2Ux5NwaatdLJckkhoBKldC/q/KB/tGlGeTzF7wBTVboqkX77VSWn3gV1CwtNwE925dstEiDM\n",
              "s5fCKG970SNW9vrxRvKjNv2NP23PdaDppI/CAk7gEfBgPCMGzCxMKPiNSRfD3RVugJI76/f7RzWb\n",
              "IVz8pdup0bpUiVx62pPYoGwKj9rsSY1tm3NCuODocK/fno507xjhjdiD+KfcU+QRJ8qVGhzzCJUi\n",
              "cZdL6aU6qBJJJ0di7KNimnmGDgaUgDsaDpFSf54itrpUr98GdSEKiI20y6T/xgknxwKnweBXar9Z\n",
              "qzObQgiSFhuvX0p68zGvboOm7PVWh2VIYTJ3iaMJl2nxrnFqpgNPyNcHdSWdnGFvH+lvrLHupAwk\n",
              "mzqYyS92VDuuQI6FrdHzDT8LKX9T2E3nfh2SyY+dAAABlEGaY0nhDyZTAh3//qmWABltn+2ejP4g\n",
              "DjheqF9ghCuHM0GjAzQtUuhP6aPylqxQDLkM3IYnLr1/5lCCeeiLDeqGr9JElJkz34jeVjXTcklT\n",
              "y/aZsQiJiOVEbDq9bBfxV35EHt/OfaDEIoXQQGkLn1cycrmdsByl9PGQg1RsvkP0o8JxSPD2M8cA\n",
              "SnrXEqHTHg1A3wEjs3zhZM3Wr1BRww4LEAGFt/CELaoF4KkAFXBHRmuF9ybguJEH13YmW57MPpI6\n",
              "2PahAQDmJfVcX/rEaSU0oAlBsVo1Earwq9EZCtsciskPSfRmnhdfXo7KOXzM+q46W4FNglAj9nm6\n",
              "X1/m+00mNctovrxo5e3L1RwdWE1PEl8nE3yPNsut4y5YKDBZmwYflKROwBuOcA00HJrH2rqzYOjk\n",
              "3EVPIn3bgCAEOmpXhPpYyJOOMO5VEl07cfBQBYhPVhwn8UhWbvkGYchTsoh+UsulV0mfP3QVVlZV\n",
              "cb9aZTvkB4qmVAaGh8+KQGZrYcBj6zqJYCPjybJqYzGm9Nt6kgG9AAAB20GahUnhDyZTBRE8O//+\n",
              "qZYAHy3Zad+9EAVfcZODe/MageOPJm+l/+xUlgdmM1x97g8ZqzPP2MqrzDQRkYGN5OxlEWbZYjwP\n",
              "qNvD0C1UbGJ1E5RYuolWhVXzlCKzabB16xKCnhD6shfPgdH/Sh5OGvMDR62gA9BiFMAja9VsYrFq\n",
              "nuM7SWZhOGG4nuQRroERmB85/IBdXF/7D3oda4ZrDscKPryYSNQTXwlxUL9hyzJlHEdwDzr3lz5t\n",
              "FRFPKJrEWT0z9INWEfdfh8oUBmKLIJD/npN4uBX0OZa8KL+rDIlg5L0jik/JtirQIMWDy0pfxgpK\n",
              "CKcSs/5stPIJofqUkhL+9L7iLmmPIV1Ylr6yDcynu+HUexC5CDT5jpAxSFr+SqgrYL2gk4kcHNVF\n",
              "hNAifg1OOLJ+G3cvgYJ/JubTdSCzuTz6a4ofKxqmsidFnWa6rpIt2PManXCkVJt240S81zaD0cW8\n",
              "r9VirB2xGZzdiVtzyPnWaEIdULKWlZxnLV1Vsx3Vh5PXqMy0OCaEiaE0qfnscL3Iu8H3ZYfnzDBy\n",
              "dqdClOyX2H9rZS6oB810dl4N8EDRiy8ELgeIAJfSZvfoIIMb5y8rkoLy4pVLc33QsERNBf85lPjT\n",
              "Xo/BcUMAAACaAZ6kakK/ADOD/dbE8eWyADZZyiQrjBoeSOGHZP56gQKCqXOLYDaXyxkxyJP+T/eq\n",
              "SNNx4/6l0w0dkwtnTp92WDhogRXBrExxoE5TVSfo+qKf7wuZew2WGPkwAhyxuYHInfTkqnTgxB1O\n",
              "P6gVkxbsDfGyWTxemtq+g50N1AfRh/K+pKjUZ5lb8RYz4QTSaUX8P7fYSwi2b0U2gQAAASBBmqdJ\n",
              "4Q8mUwU8O//+qZYAG8/QlsAUDq+X5i80ETv8Haf9vYWjM9/0Jb7ZD4+OdD3sChUD1Mf8+1/6sQ6k\n",
              "Rgq7U2JLeqy+rMwsgHj+70EuNcSl4Pqd3xCTFp6s8xsgW2dqm71q6JUvy+f7dtXAt2Kdxa1fZRLb\n",
              "AEM5RutgiwsYrOSDIDRYiyIrhOS7hMmIaEERL/sHYAPf2cRTS7duxK568iLtqlQZ8KN97v/gi1Gz\n",
              "uXzHBQEZ9sqydEoJeOPN8cmiCeEso6Y6GUoilfIyHIOVFZInTYkzniBTrD3FJQN55/Q4lQ4voszB\n",
              "+55LeVcxA5j+XYefkLljTjCrJvZF7+6nEsUybEIkoZFlgG5x0F/7FqrqmlN8Fe2iaD4plgFHAz8A\n",
              "AABMAZ7GakK/AC6V6WyR3clamrCPzrdO9K1N5v0aQnzPjR1wyIFljR4egc16Z8mYna/bH1tywlbS\n",
              "Sbrv2zp3AO2qHX85n73iQthNWjaf4QAAAEBBmshJ4Q8mUwIf//6plgAYz3SoUdmPXX/hiUqS0/Zt\n",
              "ra4Z5beObWVQ4har32IG3ETiQ8TMA0woZYAKY32EB4/WAAAAQEGa7EnhDyZTAh///qmWAAADAAAD\n",
              "ACu/CtrwHwIWO+6xAJr8iVvwIaOQPaM5Z1KeRYlOa6rcXMadqkQQ/GnfQS4AAAAmQZ8KRRE8M/8A\n",
              "GSTfwoA7aYzNEO9aZDzZqVpuLkcfh+FvJFlhqRkAAAAfAZ8pdEK/AC6JhGwEdSioUHoPtboIUvQl\n",
              "PxC9pv6pgAAAABgBnytqQr8ALpX87AR3GiI6Cg/coxqe9TAAAAAZQZswSahBaJlMCH///qmWAAAD\n",
              "AAADAAAs4QAAAB1Bn05FESwz/wAZJhxZAGIdoZpbpR4sbmyiqeADmwAAABgBn210Qr8ALomEbAR1\n",
              "KKhQeg+1ugob1MEAAAAYAZ9vakK/AC6V/OwEdxoiOgoP3KManvUwAAAAGUGbdEmoQWyZTAh///6p\n",
              "lgAAAwAAAwAALOAAAAAdQZ+SRRUsM/8AGSYcWQBiHaGaW6UeLG5soqngA5sAAAAYAZ+xdEK/AC6J\n",
              "hGwEdSioUHoPtboKG9TAAAAAGAGfs2pCvwAulfzsBHcaIjoKD9yjGp71MAAAABlBm7hJqEFsmUwI\n",
              "f//+qZYAAAMAAAMAACzhAAAAHUGf1kUVLDP/ABkmHFkAYh2hmlulHixubKKp4AOaAAAAGAGf9XRC\n",
              "vwAuiYRsBHUoqFB6D7W6ChvUwQAAABgBn/dqQr8ALpX87AR3GiI6Cg/coxqe9TEAAAAZQZv8SahB\n",
              "bJlMCH///qmWAAADAAADAAAs4AAAAB1BnhpFFSwz/wAZJhxZAGIdoZpbpR4sbmyiqeADmwAAABgB\n",
              "njl0Qr8ALomEbAR1KKhQeg+1ugob1MAAAAAYAZ47akK/AC6V/OwEdxoiOgoP3KManvUxAAAAGUGa\n",
              "IEmoQWyZTAh///6plgAAAwAAAwAALOEAAAAdQZ5eRRUsM/8AGSYcWQBiHaGaW6UeLG5soqngA5oA\n",
              "AAAYAZ59dEK/AC6JhGwEdSioUHoPtboKG9TAAAAAGAGef2pCvwAulfzsBHcaIjoKD9yjGp71MQAA\n",
              "ABlBmmRJqEFsmUwIf//+qZYAAAMAAAMAACzgAAAAHUGegkUVLDP/ABkmHFkAYh2hmlulHixubKKp\n",
              "4AObAAAAGAGeoXRCvwAuiYRsBHUoqFB6D7W6ChvUwAAAABgBnqNqQr8ALpX87AR3GiI6Cg/coxqe\n",
              "9TEAAAAZQZqoSahBbJlMCHf//qmWAAADAAADAAAs4QAAAB1BnsZFFSwz/wAZJhxZAGIdoZpbpR4s\n",
              "bmyiqeADmwAAABgBnuV0Qr8ALomEbAR1KKhQeg+1ugob1MEAAAAYAZ7nakK/AC6V/OwEdxoiOgoP\n",
              "3KManvUwAAAAGUGa7EmoQWyZTAh3//6plgAAAwAAAwAALOAAAAAdQZ8KRRUsM/8AGSYcWQBiHaGa\n",
              "W6UeLG5soqngA5sAAAAYAZ8pdEK/AC6JhGwEdSioUHoPtboKG9TAAAAAGAGfK2pCvwAulfzsBHca\n",
              "IjoKD9yjGp71MAAAABhBmzBJqEFsmUwIZ//+nhAAAAMAAAMAAVsAAAAdQZ9ORRUsM/8AGSYcWQBi\n",
              "HaGaW6UeLG5soqngA5sAAAAYAZ9tdEK/AC6JhGwEdSioUHoPtboKG9TBAAAAGAGfb2pCvwAulfzs\n",
              "BHcaIjoKD9yjGp71MAAAABlBm3JJqEFsmUwUTCv//jhAAAADAAADAAVMAAAAGgGfkWpCvwAAAwAn\n",
              "3Jj5WEgbP6sKndjPPknBAAAFfm1vb3YAAABsbXZoZAAAAAAAAAAAAAAAAAAAA+gAAAn2AAEAAAEA\n",
              "AAAAAAAAAAAAAAABAAAAAAAAAAAAAAAAAAAAAQAAAAAAAAAAAAAAAAAAQAAAAAAAAAAAAAAAAAAA\n",
              "AAAAAAAAAAAAAAAAAAAAAAIAAASodHJhawAAAFx0a2hkAAAAAwAAAAAAAAAAAAAAAQAAAAAAAAn2\n",
              "AAAAAAAAAAAAAAAAAAAAAAABAAAAAAAAAAAAAAAAAAAAAQAAAAAAAAAAAAAAAAAAQAAAAAKAAAAB\n",
              "4AAAAAAAJGVkdHMAAAAcZWxzdAAAAAAAAAABAAAJ9gAABAAAAQAAAAAEIG1kaWEAAAAgbWRoZAAA\n",
              "AAAAAAAAAAAAAAAAKAAAAGYAVcQAAAAAAC1oZGxyAAAAAAAAAAB2aWRlAAAAAAAAAAAAAAAAVmlk\n",
              "ZW9IYW5kbGVyAAAAA8ttaW5mAAAAFHZtaGQAAAABAAAAAAAAAAAAAAAkZGluZgAAABxkcmVmAAAA\n",
              "AAAAAAEAAAAMdXJsIAAAAAEAAAOLc3RibAAAALdzdHNkAAAAAAAAAAEAAACnYXZjMQAAAAAAAAAB\n",
              "AAAAAAAAAAAAAAAAAAAAAAKAAeAASAAAAEgAAAAAAAAAAQAAAAAAAAAAAAAAAAAAAAAAAAAAAAAA\n",
              "AAAAAAAAAAAAABj//wAAADVhdmNDAWQAHv/hABhnZAAerNlAoD2hAAADAAEAAAMAKA8WLZYBAAZo\n",
              "6+PLIsD9+PgAAAAAHHV1aWRraEDyXyRPxbo5pRvPAyPzAAAAAAAAABhzdHRzAAAAAAAAAAEAAAAz\n",
              "AAACAAAAABRzdHNzAAAAAAAAAAEAAAABAAABkGN0dHMAAAAAAAAAMAAAAAQAAAQAAAAAAQAABgAA\n",
              "AAABAAACAAAAAAEAAAYAAAAAAQAAAgAAAAABAAAEAAAAAAEAAAoAAAAAAQAABAAAAAABAAAAAAAA\n",
              "AAEAAAIAAAAAAQAACgAAAAABAAAEAAAAAAEAAAAAAAAAAQAAAgAAAAABAAAKAAAAAAEAAAQAAAAA\n",
              "AQAAAAAAAAABAAACAAAAAAEAAAoAAAAAAQAABAAAAAABAAAAAAAAAAEAAAIAAAAAAQAACgAAAAAB\n",
              "AAAEAAAAAAEAAAAAAAAAAQAAAgAAAAABAAAKAAAAAAEAAAQAAAAAAQAAAAAAAAABAAACAAAAAAEA\n",
              "AAoAAAAAAQAABAAAAAABAAAAAAAAAAEAAAIAAAAAAQAACgAAAAABAAAEAAAAAAEAAAAAAAAAAQAA\n",
              "AgAAAAABAAAKAAAAAAEAAAQAAAAAAQAAAAAAAAABAAACAAAAAAEAAAoAAAAAAQAABAAAAAABAAAA\n",
              "AAAAAAEAAAIAAAAAAQAABgAAAAABAAACAAAAABxzdHNjAAAAAAAAAAEAAAABAAAAMwAAAAEAAADg\n",
              "c3RzegAAAAAAAAAAAAAAMwAABnAAAAJ5AAACJwAAAZgAAAHfAAAAngAAASQAAABQAAAARAAAAEQA\n",
              "AAAqAAAAIwAAABwAAAAdAAAAIQAAABwAAAAcAAAAHQAAACEAAAAcAAAAHAAAAB0AAAAhAAAAHAAA\n",
              "ABwAAAAdAAAAIQAAABwAAAAcAAAAHQAAACEAAAAcAAAAHAAAAB0AAAAhAAAAHAAAABwAAAAdAAAA\n",
              "IQAAABwAAAAcAAAAHQAAACEAAAAcAAAAHAAAABwAAAAhAAAAHAAAABwAAAAdAAAAHgAAABRzdGNv\n",
              "AAAAAAAAAAEAAAAwAAAAYnVkdGEAAABabWV0YQAAAAAAAAAhaGRscgAAAAAAAAAAbWRpcmFwcGwA\n",
              "AAAAAAAAAAAAAAAtaWxzdAAAACWpdG9vAAAAHWRhdGEAAAABAAAAAExhdmY1OC43Ni4xMDA=\n",
              "\">\n",
              "  Your browser does not support the video tag.\n",
              "</video>"
            ]
          },
          "metadata": {},
          "execution_count": 30
        }
      ]
    }
  ]
}